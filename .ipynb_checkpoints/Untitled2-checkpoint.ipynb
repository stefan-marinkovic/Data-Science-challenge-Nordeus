{
 "cells": [
  {
   "cell_type": "code",
   "execution_count": 1,
   "id": "f36c985d",
   "metadata": {},
   "outputs": [],
   "source": [
    "import pandas as pd\n",
    "import numpy as np\n",
    "import matplotlib.pyplot as plt\n",
    "from datetime import datetime\n",
    "import calendar\n",
    "import matplotlib.dates as mdates\n",
    "import seaborn as sns\n",
    "from statsmodels.graphics.tsaplots import plot_acf\n",
    "from sklearn.ensemble import RandomForestRegressor, GradientBoostingRegressor,AdaBoostRegressor\n",
    "from sklearn.metrics import mean_squared_error,r2_score,silhouette_score,mean_squared_log_error\n",
    "from sklearn.neural_network import MLPRegressor\n",
    "from statsmodels.tsa.seasonal import seasonal_decompose\n",
    "from sklearn.preprocessing import MinMaxScaler\n",
    "from sklearn.feature_selection import RFECV\n",
    "from sklearn.model_selection import cross_val_score\n",
    "from sklearn.feature_selection import SelectKBest\n",
    "from sklearn.feature_selection import chi2\n",
    "from sklearn.feature_selection import mutual_info_regression\n",
    "from sklearn.linear_model import LinearRegression\n",
    "from xgboost import XGBRegressor\n",
    "from sklearn.model_selection import GridSearchCV\n",
    "from sklearn.cluster import KMeans, DBSCAN\n",
    "from yellowbrick.cluster import KElbowVisualizer\n"
   ]
  },
  {
   "cell_type": "markdown",
   "id": "714b1fdc",
   "metadata": {},
   "source": [
    "### Loading Data"
   ]
  },
  {
   "cell_type": "code",
   "execution_count": 2,
   "id": "1c351d41",
   "metadata": {},
   "outputs": [],
   "source": [
    "df_data=pd.read_csv(\"2. job_fair_retention_prediction_2022_training.csv\")"
   ]
  },
  {
   "cell_type": "markdown",
   "id": "81934573",
   "metadata": {},
   "source": [
    "### Number of rows and columns"
   ]
  },
  {
   "cell_type": "code",
   "execution_count": 3,
   "id": "a1672f68",
   "metadata": {},
   "outputs": [
    {
     "data": {
      "text/plain": [
       "(342332, 14)"
      ]
     },
     "execution_count": 3,
     "metadata": {},
     "output_type": "execute_result"
    }
   ],
   "source": [
    "df_data.shape"
   ]
  },
  {
   "cell_type": "markdown",
   "id": "43cb67ca",
   "metadata": {},
   "source": [
    "### First 5"
   ]
  },
  {
   "cell_type": "code",
   "execution_count": 4,
   "id": "34a5a430",
   "metadata": {},
   "outputs": [
    {
     "data": {
      "text/html": [
       "<div>\n",
       "<style scoped>\n",
       "    .dataframe tbody tr th:only-of-type {\n",
       "        vertical-align: middle;\n",
       "    }\n",
       "\n",
       "    .dataframe tbody tr th {\n",
       "        vertical-align: top;\n",
       "    }\n",
       "\n",
       "    .dataframe thead th {\n",
       "        text-align: right;\n",
       "    }\n",
       "</style>\n",
       "<table border=\"1\" class=\"dataframe\">\n",
       "  <thead>\n",
       "    <tr style=\"text-align: right;\">\n",
       "      <th></th>\n",
       "      <th>date</th>\n",
       "      <th>registration_type</th>\n",
       "      <th>played_t11_before</th>\n",
       "      <th>registration_channel</th>\n",
       "      <th>network_type</th>\n",
       "      <th>device_tier</th>\n",
       "      <th>device_type</th>\n",
       "      <th>device_manufacturer</th>\n",
       "      <th>screen_dpi</th>\n",
       "      <th>device_memory_size_mb</th>\n",
       "      <th>device_model</th>\n",
       "      <th>os_version</th>\n",
       "      <th>registrations</th>\n",
       "      <th>returned</th>\n",
       "    </tr>\n",
       "  </thead>\n",
       "  <tbody>\n",
       "    <tr>\n",
       "      <th>0</th>\n",
       "      <td>2022-06-02</td>\n",
       "      <td>3</td>\n",
       "      <td>0</td>\n",
       "      <td>1</td>\n",
       "      <td>1</td>\n",
       "      <td>3</td>\n",
       "      <td>1</td>\n",
       "      <td>2</td>\n",
       "      <td>320.0</td>\n",
       "      <td>2820.0</td>\n",
       "      <td>Xiaomi Redmi 7</td>\n",
       "      <td>Android OS 10 / API-29</td>\n",
       "      <td>1</td>\n",
       "      <td>1</td>\n",
       "    </tr>\n",
       "    <tr>\n",
       "      <th>1</th>\n",
       "      <td>2022-06-02</td>\n",
       "      <td>1</td>\n",
       "      <td>2</td>\n",
       "      <td>1</td>\n",
       "      <td>1</td>\n",
       "      <td>4</td>\n",
       "      <td>1</td>\n",
       "      <td>0</td>\n",
       "      <td>480.0</td>\n",
       "      <td>2740.0</td>\n",
       "      <td>OMIX OMIX X300</td>\n",
       "      <td>Android OS 11 / API-30</td>\n",
       "      <td>1</td>\n",
       "      <td>0</td>\n",
       "    </tr>\n",
       "    <tr>\n",
       "      <th>2</th>\n",
       "      <td>2022-06-02</td>\n",
       "      <td>3</td>\n",
       "      <td>0</td>\n",
       "      <td>1</td>\n",
       "      <td>1</td>\n",
       "      <td>3</td>\n",
       "      <td>1</td>\n",
       "      <td>1</td>\n",
       "      <td>315.0</td>\n",
       "      <td>3571.0</td>\n",
       "      <td>samsung SM-M215F</td>\n",
       "      <td>Android OS 11 / API-30</td>\n",
       "      <td>1</td>\n",
       "      <td>0</td>\n",
       "    </tr>\n",
       "    <tr>\n",
       "      <th>3</th>\n",
       "      <td>2022-06-02</td>\n",
       "      <td>1</td>\n",
       "      <td>2</td>\n",
       "      <td>2</td>\n",
       "      <td>1</td>\n",
       "      <td>2</td>\n",
       "      <td>1</td>\n",
       "      <td>10</td>\n",
       "      <td>320.0</td>\n",
       "      <td>3774.0</td>\n",
       "      <td>TECNO MOBILE LIMITED TECNO KC3</td>\n",
       "      <td>Android OS 9 / API-28</td>\n",
       "      <td>1</td>\n",
       "      <td>1</td>\n",
       "    </tr>\n",
       "    <tr>\n",
       "      <th>4</th>\n",
       "      <td>2022-06-02</td>\n",
       "      <td>1</td>\n",
       "      <td>2</td>\n",
       "      <td>2</td>\n",
       "      <td>1</td>\n",
       "      <td>1</td>\n",
       "      <td>1</td>\n",
       "      <td>1</td>\n",
       "      <td>320.0</td>\n",
       "      <td>889.0</td>\n",
       "      <td>samsung SM-A013G</td>\n",
       "      <td>Android OS 10 / API-29</td>\n",
       "      <td>1</td>\n",
       "      <td>0</td>\n",
       "    </tr>\n",
       "  </tbody>\n",
       "</table>\n",
       "</div>"
      ],
      "text/plain": [
       "         date  registration_type  played_t11_before  registration_channel  \\\n",
       "0  2022-06-02                  3                  0                     1   \n",
       "1  2022-06-02                  1                  2                     1   \n",
       "2  2022-06-02                  3                  0                     1   \n",
       "3  2022-06-02                  1                  2                     2   \n",
       "4  2022-06-02                  1                  2                     2   \n",
       "\n",
       "   network_type  device_tier  device_type  device_manufacturer  screen_dpi  \\\n",
       "0             1            3            1                    2       320.0   \n",
       "1             1            4            1                    0       480.0   \n",
       "2             1            3            1                    1       315.0   \n",
       "3             1            2            1                   10       320.0   \n",
       "4             1            1            1                    1       320.0   \n",
       "\n",
       "   device_memory_size_mb                    device_model  \\\n",
       "0                 2820.0                  Xiaomi Redmi 7   \n",
       "1                 2740.0                  OMIX OMIX X300   \n",
       "2                 3571.0                samsung SM-M215F   \n",
       "3                 3774.0  TECNO MOBILE LIMITED TECNO KC3   \n",
       "4                  889.0                samsung SM-A013G   \n",
       "\n",
       "               os_version  registrations  returned  \n",
       "0  Android OS 10 / API-29              1         1  \n",
       "1  Android OS 11 / API-30              1         0  \n",
       "2  Android OS 11 / API-30              1         0  \n",
       "3   Android OS 9 / API-28              1         1  \n",
       "4  Android OS 10 / API-29              1         0  "
      ]
     },
     "execution_count": 4,
     "metadata": {},
     "output_type": "execute_result"
    }
   ],
   "source": [
    "df_data.head()"
   ]
  },
  {
   "cell_type": "markdown",
   "id": "3e1e227f",
   "metadata": {},
   "source": [
    "### Data Type"
   ]
  },
  {
   "cell_type": "code",
   "execution_count": 5,
   "id": "941384c7",
   "metadata": {},
   "outputs": [
    {
     "name": "stdout",
     "output_type": "stream",
     "text": [
      "<class 'pandas.core.frame.DataFrame'>\n",
      "RangeIndex: 342332 entries, 0 to 342331\n",
      "Data columns (total 14 columns):\n",
      " #   Column                 Non-Null Count   Dtype  \n",
      "---  ------                 --------------   -----  \n",
      " 0   date                   342332 non-null  object \n",
      " 1   registration_type      342332 non-null  int64  \n",
      " 2   played_t11_before      342332 non-null  int64  \n",
      " 3   registration_channel   342332 non-null  int64  \n",
      " 4   network_type           342332 non-null  int64  \n",
      " 5   device_tier            342332 non-null  int64  \n",
      " 6   device_type            342332 non-null  int64  \n",
      " 7   device_manufacturer    342332 non-null  int64  \n",
      " 8   screen_dpi             340442 non-null  float64\n",
      " 9   device_memory_size_mb  340442 non-null  float64\n",
      " 10  device_model           340442 non-null  object \n",
      " 11  os_version             340442 non-null  object \n",
      " 12  registrations          342332 non-null  int64  \n",
      " 13  returned               342332 non-null  int64  \n",
      "dtypes: float64(2), int64(9), object(3)\n",
      "memory usage: 36.6+ MB\n"
     ]
    }
   ],
   "source": [
    "df_data.info()"
   ]
  },
  {
   "cell_type": "markdown",
   "id": "29792f82",
   "metadata": {},
   "source": [
    "### Convert attribute date to datetime"
   ]
  },
  {
   "cell_type": "code",
   "execution_count": 6,
   "id": "7be461a4",
   "metadata": {},
   "outputs": [],
   "source": [
    "df_data['date']=pd.to_datetime(df_data['date'])"
   ]
  },
  {
   "cell_type": "markdown",
   "id": "65412a73",
   "metadata": {},
   "source": [
    "### Date range"
   ]
  },
  {
   "cell_type": "code",
   "execution_count": 7,
   "id": "17529d6c",
   "metadata": {},
   "outputs": [
    {
     "name": "stderr",
     "output_type": "stream",
     "text": [
      "C:\\Users\\STEFAN~1\\AppData\\Local\\Temp/ipykernel_2516/285616626.py:1: FutureWarning: Treating datetime data as categorical rather than numeric in `.describe` is deprecated and will be removed in a future version of pandas. Specify `datetime_is_numeric=True` to silence this warning and adopt the future behavior now.\n",
      "  df_data['date'].describe()\n"
     ]
    },
    {
     "data": {
      "text/plain": [
       "count                  342332\n",
       "unique                    106\n",
       "top       2022-06-20 00:00:00\n",
       "freq                     3987\n",
       "first     2022-06-02 00:00:00\n",
       "last      2022-09-15 00:00:00\n",
       "Name: date, dtype: object"
      ]
     },
     "execution_count": 7,
     "metadata": {},
     "output_type": "execute_result"
    }
   ],
   "source": [
    "df_data['date'].describe()"
   ]
  },
  {
   "cell_type": "markdown",
   "id": "fd562419",
   "metadata": {},
   "source": [
    "### Convert  registration_type, played_t11_before, registration_channel, network_type,device_tier, device_type, device_manufacturer to object"
   ]
  },
  {
   "cell_type": "code",
   "execution_count": 8,
   "id": "b742e994",
   "metadata": {},
   "outputs": [],
   "source": [
    "df_data.iloc[:,1:8]=df_data.iloc[:,1:8].astype('object')"
   ]
  },
  {
   "cell_type": "markdown",
   "id": "b01e092c",
   "metadata": {},
   "source": [
    "### NA Cheking"
   ]
  },
  {
   "cell_type": "code",
   "execution_count": 9,
   "id": "219a05c6",
   "metadata": {},
   "outputs": [
    {
     "data": {
      "text/plain": [
       "date                        0\n",
       "registration_type           0\n",
       "played_t11_before           0\n",
       "registration_channel        0\n",
       "network_type                0\n",
       "device_tier                 0\n",
       "device_type                 0\n",
       "device_manufacturer         0\n",
       "screen_dpi               1890\n",
       "device_memory_size_mb    1890\n",
       "device_model             1890\n",
       "os_version               1890\n",
       "registrations               0\n",
       "returned                    0\n",
       "dtype: int64"
      ]
     },
     "execution_count": 9,
     "metadata": {},
     "output_type": "execute_result"
    }
   ],
   "source": [
    "df_data.isna().sum()"
   ]
  },
  {
   "cell_type": "markdown",
   "id": "c8ab98aa",
   "metadata": {},
   "source": [
    "Attributes who have NA values are screen_dpi, device_memory_size_mb, device_model, os_version  (0.55%). \n",
    "All NA values are when device_manufacturer=0 (Other)"
   ]
  },
  {
   "cell_type": "markdown",
   "id": "6140f33e",
   "metadata": {},
   "source": [
    "# _ _ _ _ _ _ _ _ _ _ _ _ _ _ _ _ _ _ _ _ _ _ _ _ _ _ _ _ _ _ _ _ _ _ _ _ _ _ _ _ _ _ _ "
   ]
  },
  {
   "cell_type": "markdown",
   "id": "c915c817",
   "metadata": {},
   "source": [
    "# Create new attributes"
   ]
  },
  {
   "cell_type": "markdown",
   "id": "b2051c4d",
   "metadata": {},
   "source": [
    "### Create week day of registration"
   ]
  },
  {
   "cell_type": "code",
   "execution_count": 10,
   "id": "fd648c5e",
   "metadata": {},
   "outputs": [],
   "source": [
    "df_data['week_day_of_registrion']=df_data['date'].apply(lambda x: calendar.day_name[x.weekday()-1])"
   ]
  },
  {
   "cell_type": "markdown",
   "id": "f9b5ad5a",
   "metadata": {},
   "source": [
    "We can create registration month, but since we don't have all months covered in the data, this attribute will not be created. "
   ]
  },
  {
   "cell_type": "markdown",
   "id": "31e7d3e8",
   "metadata": {},
   "source": [
    "# _ _ _ _ _ _ _ _ _ _ _ _ _ _ _ _ _ _ _ _ _ _ _ _ _ _ _ _ _ _ _ _ _ _ _ _ _ _ _ _ _ _ _ "
   ]
  },
  {
   "cell_type": "markdown",
   "id": "95dde80b",
   "metadata": {},
   "source": [
    "# Splitting the training and test set"
   ]
  },
  {
   "cell_type": "code",
   "execution_count": 11,
   "id": "65521c9b",
   "metadata": {},
   "outputs": [],
   "source": [
    "df_train=df_data.loc[df_data['date']<=datetime.strptime('2022-08-31', '%Y-%m-%d'),:]\n",
    "df_test=df_data.loc[df_data['date']>datetime.strptime('2022-08-31', '%Y-%m-%d'),:]"
   ]
  },
  {
   "cell_type": "code",
   "execution_count": 12,
   "id": "92ff8aaf",
   "metadata": {},
   "outputs": [
    {
     "name": "stderr",
     "output_type": "stream",
     "text": [
      "C:\\Users\\STEFAN~1\\AppData\\Local\\Temp/ipykernel_2516/953799195.py:1: SettingWithCopyWarning: \n",
      "A value is trying to be set on a copy of a slice from a DataFrame.\n",
      "Try using .loc[row_indexer,col_indexer] = value instead\n",
      "\n",
      "See the caveats in the documentation: https://pandas.pydata.org/pandas-docs/stable/user_guide/indexing.html#returning-a-view-versus-a-copy\n",
      "  df_train['os_version']=df_train['os_version'].fillna('Android OS None').apply(lambda x: x.split('Android OS ')[1].split('.')[0].split(' /')[0])\n"
     ]
    }
   ],
   "source": [
    "df_train['os_version']=df_train['os_version'].fillna('Android OS None').apply(lambda x: x.split('Android OS ')[1].split('.')[0].split(' /')[0])"
   ]
  },
  {
   "cell_type": "markdown",
   "id": "85da2776",
   "metadata": {},
   "source": [
    "#### os_version that have low frequenlty replaced by 'Other'"
   ]
  },
  {
   "cell_type": "code",
   "execution_count": 13,
   "id": "40ba408f",
   "metadata": {
    "scrolled": true
   },
   "outputs": [
    {
     "name": "stderr",
     "output_type": "stream",
     "text": [
      "C:\\Users\\STEFAN~1\\AppData\\Local\\Temp/ipykernel_2516/1163580158.py:1: SettingWithCopyWarning: \n",
      "A value is trying to be set on a copy of a slice from a DataFrame.\n",
      "Try using .loc[row_indexer,col_indexer] = value instead\n",
      "\n",
      "See the caveats in the documentation: https://pandas.pydata.org/pandas-docs/stable/user_guide/indexing.html#returning-a-view-versus-a-copy\n",
      "  df_train['os_version']=df_train['os_version'].apply(lambda x: x if x in ['10', '11', '9', '12', '8', '7', '5', '6', '4', 'None'] else 'Other' )\n"
     ]
    }
   ],
   "source": [
    "df_train['os_version']=df_train['os_version'].apply(lambda x: x if x in ['10', '11', '9', '12', '8', '7', '5', '6', '4', 'None'] else 'Other' )"
   ]
  },
  {
   "cell_type": "code",
   "execution_count": 14,
   "id": "28557f73",
   "metadata": {},
   "outputs": [
    {
     "name": "stderr",
     "output_type": "stream",
     "text": [
      "c:\\users\\stefan marinkovic\\appdata\\local\\programs\\python\\python39\\lib\\site-packages\\pandas\\util\\_decorators.py:311: SettingWithCopyWarning: \n",
      "A value is trying to be set on a copy of a slice from a DataFrame\n",
      "\n",
      "See the caveats in the documentation: https://pandas.pydata.org/pandas-docs/stable/user_guide/indexing.html#returning-a-view-versus-a-copy\n",
      "  return func(*args, **kwargs)\n"
     ]
    }
   ],
   "source": [
    "df_train.dropna(inplace=True)\n",
    "#df_train.fillna('Imputation',inplace=True)"
   ]
  },
  {
   "cell_type": "markdown",
   "id": "01e03b7d",
   "metadata": {},
   "source": [
    "# _ _ _ _ _ _ _ _ _ _ _ _ _ _ _ _ _ _ _ _ _ _ _ _ _ _ _ _ _ _ _ _ _ _ _ _ _ _ _ _ _ _ _ "
   ]
  },
  {
   "cell_type": "markdown",
   "id": "e5ecea5e",
   "metadata": {},
   "source": [
    "# Editing for categorical attributes"
   ]
  },
  {
   "cell_type": "code",
   "execution_count": 15,
   "id": "240ca92e",
   "metadata": {
    "scrolled": true
   },
   "outputs": [
    {
     "name": "stderr",
     "output_type": "stream",
     "text": [
      "c:\\users\\stefan marinkovic\\appdata\\local\\programs\\python\\python39\\lib\\site-packages\\pandas\\core\\frame.py:4906: SettingWithCopyWarning: \n",
      "A value is trying to be set on a copy of a slice from a DataFrame\n",
      "\n",
      "See the caveats in the documentation: https://pandas.pydata.org/pandas-docs/stable/user_guide/indexing.html#returning-a-view-versus-a-copy\n",
      "  return super().drop(\n"
     ]
    }
   ],
   "source": [
    "df_train.drop(columns=['device_model'],inplace=True)"
   ]
  },
  {
   "cell_type": "code",
   "execution_count": 16,
   "id": "4c2ffe41",
   "metadata": {},
   "outputs": [],
   "source": [
    "df_train=pd.get_dummies(df_train)"
   ]
  },
  {
   "cell_type": "markdown",
   "id": "66e63d77",
   "metadata": {},
   "source": [
    "# _ _ _ _ _ _ _ _ _ _ _ _ _ _ _ _ _ _ _ _ _ _ _ _ _ _ _ _ _ _ _ _ _ _ _ _ _ _ _ _ _ _ _ "
   ]
  },
  {
   "cell_type": "markdown",
   "id": "51d3bf2a",
   "metadata": {},
   "source": [
    "# Split the training and evaluation (test) set."
   ]
  },
  {
   "cell_type": "code",
   "execution_count": 17,
   "id": "38a343f4",
   "metadata": {},
   "outputs": [],
   "source": [
    "X_train,y_train=df_train.loc[df_train['date']<=datetime.strptime('2022-08-09', '%Y-%m-%d'),df_train.columns.difference(['date','returned'])],df_train.loc[df_train['date']<=datetime.strptime('2022-08-09', '%Y-%m-%d'),'returned']\n",
    "X_test,y_test=df_train.loc[df_train['date']>datetime.strptime('2022-08-09', '%Y-%m-%d'),df_train.columns.difference(['date','returned'])],df_train.loc[df_train['date']>datetime.strptime('2022-08-09', '%Y-%m-%d'),'returned']"
   ]
  },
  {
   "cell_type": "code",
   "execution_count": 20,
   "id": "35407c4a",
   "metadata": {},
   "outputs": [
    {
     "name": "stdout",
     "output_type": "stream",
     "text": [
      "XGBRegressor\n"
     ]
    }
   ],
   "source": [
    "otp_xgb={'max_depth': [3, 8, 12],\n",
    "              'learning_rate': [0.01, 0.1, 0.3],\n",
    "              'subsample': [0.5,0.75,1],'n_estimators': [50, 300, 750]}\n",
    "opt=[otp_xgb]\n",
    "\n",
    "models={'XGBRegressor':XGBRegressor(tree_method='hist')}\n",
    "\n",
    "j=0\n",
    "\n",
    "res={}\n",
    "for name,model in models.items():\n",
    "    print(name)\n",
    "    params =opt[j]  #vrednosti parametara koje treba probati\n",
    "    grid = GridSearchCV(model, params,cv=5, scoring='neg_mean_squared_error')\n",
    "    grid.fit(X_train,y_train)\n",
    "\n",
    "    res[name]=grid.best_params_\n",
    "    j=j+1"
   ]
  },
  {
   "cell_type": "code",
   "execution_count": 21,
   "id": "e075533e",
   "metadata": {},
   "outputs": [
    {
     "data": {
      "text/plain": [
       "{'XGBRegressor': {'learning_rate': 0.1,\n",
       "  'max_depth': 3,\n",
       "  'n_estimators': 300,\n",
       "  'subsample': 1}}"
      ]
     },
     "execution_count": 21,
     "metadata": {},
     "output_type": "execute_result"
    }
   ],
   "source": [
    "res"
   ]
  },
  {
   "cell_type": "code",
   "execution_count": 22,
   "id": "7856907e",
   "metadata": {},
   "outputs": [],
   "source": [
    "model=XGBRegressor(learning_rate= 0.1,max_depth=3,n_estimators=300,subsample=1).fit(X_train,y_train)"
   ]
  },
  {
   "cell_type": "code",
   "execution_count": 23,
   "id": "f5d89a23",
   "metadata": {},
   "outputs": [],
   "source": [
    "y_pred=model.predict(X_test)"
   ]
  },
  {
   "cell_type": "code",
   "execution_count": 24,
   "id": "a9ac244f",
   "metadata": {},
   "outputs": [
    {
     "data": {
      "text/plain": [
       "0.5642982386954273"
      ]
     },
     "execution_count": 24,
     "metadata": {},
     "output_type": "execute_result"
    }
   ],
   "source": [
    "np.sqrt(mean_squared_error(y_test,y_pred))"
   ]
  },
  {
   "cell_type": "code",
   "execution_count": 25,
   "id": "cfbbe7db",
   "metadata": {},
   "outputs": [
    {
     "name": "stderr",
     "output_type": "stream",
     "text": [
      "c:\\users\\stefan marinkovic\\appdata\\local\\programs\\python\\python39\\lib\\site-packages\\seaborn\\_decorators.py:36: FutureWarning: Pass the following variables as keyword args: x, y. From version 0.12, the only valid positional argument will be `data`, and passing other arguments without an explicit keyword will result in an error or misinterpretation.\n",
      "  warnings.warn(\n"
     ]
    },
    {
     "data": {
      "text/plain": [
       "(-0.5, 30.0)"
      ]
     },
     "execution_count": 25,
     "metadata": {},
     "output_type": "execute_result"
    },
    {
     "data": {
      "image/png": "[encoded data removed]",
      "text/plain": [
       "<Figure size 576x396 with 1 Axes>"
      ]
     },
     "metadata": {},
     "output_type": "display_data"
    }
   ],
   "source": [
    "f,ax=plt.subplots()\n",
    "sns.set(font_scale = 1.3, palette='plasma')\n",
    "sns.scatterplot(y_test,y_pred)\n",
    "ax.plot([0, 1], [0, 1], transform=ax.transAxes,color='r')\n",
    "plt.xlim(-0.5,30)\n",
    "plt.ylim(-0.5,30)"
   ]
  },
  {
   "cell_type": "code",
   "execution_count": 26,
   "id": "a3a71cb7",
   "metadata": {},
   "outputs": [],
   "source": [
    "X_test_pom=df_train.loc[df_train['date']>datetime.strptime('2022-08-09', '%Y-%m-%d')]"
   ]
  },
  {
   "cell_type": "code",
   "execution_count": 27,
   "id": "2d9df29c",
   "metadata": {},
   "outputs": [
    {
     "name": "stderr",
     "output_type": "stream",
     "text": [
      "C:\\Users\\STEFAN~1\\AppData\\Local\\Temp/ipykernel_2516/2102930742.py:1: SettingWithCopyWarning: \n",
      "A value is trying to be set on a copy of a slice from a DataFrame.\n",
      "Try using .loc[row_indexer,col_indexer] = value instead\n",
      "\n",
      "See the caveats in the documentation: https://pandas.pydata.org/pandas-docs/stable/user_guide/indexing.html#returning-a-view-versus-a-copy\n",
      "  X_test_pom['pred']=y_pred\n"
     ]
    }
   ],
   "source": [
    "X_test_pom['pred']=y_pred"
   ]
  },
  {
   "cell_type": "code",
   "execution_count": 28,
   "id": "ad5c7914",
   "metadata": {},
   "outputs": [],
   "source": [
    "a=X_test_pom.groupby('date').agg({'registrations':'sum','pred':'sum','returned':'sum'})['returned']/X_test_pom.groupby('date').agg({'registrations':'sum','pred':'sum','returned':'sum'})['registrations']"
   ]
  },
  {
   "cell_type": "code",
   "execution_count": 29,
   "id": "40ee5fa3",
   "metadata": {},
   "outputs": [],
   "source": [
    "b=X_test_pom.groupby('date').agg({'registrations':'sum','pred':'sum','returned':'sum'})['pred']/X_test_pom.groupby('date').agg({'registrations':'sum','pred':'sum','returned':'sum'})['registrations']"
   ]
  },
  {
   "cell_type": "code",
   "execution_count": 30,
   "id": "50ac759c",
   "metadata": {},
   "outputs": [
    {
     "data": {
      "text/plain": [
       "array([30.399, 30.032, 30.468, 29.944, 30.724, 30.958, 31.443, 31.802,\n",
       "       31.083, 30.502, 30.248, 31.007, 29.571, 30.598, 30.84 , 30.264,\n",
       "       30.529, 29.646, 30.867, 29.731, 30.523, 31.286])"
      ]
     },
     "execution_count": 30,
     "metadata": {},
     "output_type": "execute_result"
    }
   ],
   "source": [
    "np.round_(b.values*100,3)"
   ]
  },
  {
   "cell_type": "code",
   "execution_count": 31,
   "id": "5934760b",
   "metadata": {},
   "outputs": [
    {
     "data": {
      "text/plain": [
       "1.260812454512782"
      ]
     },
     "execution_count": 31,
     "metadata": {},
     "output_type": "execute_result"
    }
   ],
   "source": [
    "np.sqrt(mean_squared_error(np.round_(a.values*100,3),np.round_(b.values*100,3)))"
   ]
  },
  {
   "cell_type": "code",
   "execution_count": 32,
   "id": "bfa253f1",
   "metadata": {},
   "outputs": [
    {
     "data": {
      "text/plain": [
       "0.03168718797543735"
      ]
     },
     "execution_count": 32,
     "metadata": {},
     "output_type": "execute_result"
    }
   ],
   "source": [
    "r2_score(np.round_(a.values*100,3),np.round_(b.values*100,3))"
   ]
  },
  {
   "cell_type": "code",
   "execution_count": 33,
   "id": "7ae50efb",
   "metadata": {},
   "outputs": [
    {
     "data": {
      "text/plain": [
       "22"
      ]
     },
     "execution_count": 33,
     "metadata": {},
     "output_type": "execute_result"
    }
   ],
   "source": [
    "len(np.round_(a.values*100,3))"
   ]
  },
  {
   "cell_type": "code",
   "execution_count": 34,
   "id": "daf45615",
   "metadata": {
    "scrolled": true
   },
   "outputs": [
    {
     "name": "stderr",
     "output_type": "stream",
     "text": [
      "c:\\users\\stefan marinkovic\\appdata\\local\\programs\\python\\python39\\lib\\site-packages\\seaborn\\_decorators.py:36: FutureWarning: Pass the following variables as keyword args: x, y. From version 0.12, the only valid positional argument will be `data`, and passing other arguments without an explicit keyword will result in an error or misinterpretation.\n",
      "  warnings.warn(\n"
     ]
    },
    {
     "data": {
      "text/plain": [
       "(26.0, 35.0)"
      ]
     },
     "execution_count": 34,
     "metadata": {},
     "output_type": "execute_result"
    },
    {
     "data": {
      "image/png": "[encoded data removed]",
      "text/plain": [
       "<Figure size 576x432 with 1 Axes>"
      ]
     },
     "metadata": {},
     "output_type": "display_data"
    }
   ],
   "source": [
    "f,ax=plt.subplots(figsize=(8,6))\n",
    "sns.set(font_scale = 1.3, palette='plasma')\n",
    "sns.scatterplot(list(np.round_(a.values*100,3)),list(np.round_(b.values*100,3)))\n",
    "ax.plot([0, 1], [0, 1], transform=ax.transAxes,color='r')\n",
    "plt.xlim(26,35)\n",
    "plt.ylim(26,35)"
   ]
  },
  {
   "cell_type": "code",
   "execution_count": null,
   "id": "eddca90b",
   "metadata": {},
   "outputs": [],
   "source": []
  }
 ],
 "metadata": {
  "kernelspec": {
   "display_name": "Python 3 (ipykernel)",
   "language": "python",
   "name": "python3"
  },
  "language_info": {
   "codemirror_mode": {
    "name": "ipython",
    "version": 3
   },
   "file_extension": ".py",
   "mimetype": "text/x-python",
   "name": "python",
   "nbconvert_exporter": "python",
   "pygments_lexer": "ipython3",
   "version": "3.9.6"
  }
 },
 "nbformat": 4,
 "nbformat_minor": 5
}
